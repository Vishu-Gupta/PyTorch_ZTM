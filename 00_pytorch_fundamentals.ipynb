{
  "nbformat": 4,
  "nbformat_minor": 0,
  "metadata": {
    "colab": {
      "provenance": [],
      "authorship_tag": "ABX9TyOqYbzbUuaquEVTU1AGo+B9",
      "include_colab_link": true
    },
    "kernelspec": {
      "name": "python3",
      "display_name": "Python 3"
    },
    "language_info": {
      "name": "python"
    },
    "gpuClass": "standard"
  },
  "cells": [
    {
      "cell_type": "markdown",
      "metadata": {
        "id": "view-in-github",
        "colab_type": "text"
      },
      "source": [
        "<a href=\"https://colab.research.google.com/github/Vishu-Gupta/PyTorch_ZTM/blob/main/00_pytorch_fundamentals.ipynb\" target=\"_parent\"><img src=\"https://colab.research.google.com/assets/colab-badge.svg\" alt=\"Open In Colab\"/></a>"
      ]
    },
    {
      "cell_type": "markdown",
      "source": [
        "# 00. PyTorch Fundamentals\n",
        "\n",
        "Major Resource for the course is : https://www.learnpytorch.io/00_pytorch_fundamentals/ "
      ],
      "metadata": {
        "id": "4o1Mn2RG4mkS"
      }
    },
    {
      "cell_type": "code",
      "source": [
        " import torch\n",
        " import pandas as pd\n",
        " import numpy as np\n",
        " import matplotlib.pyplot as plt\n",
        " print(torch.__version__)"
      ],
      "metadata": {
        "colab": {
          "base_uri": "https://localhost:8080/"
        },
        "id": "tpS-vOzT9Oq0",
        "outputId": "ff2f4e75-beb0-4c2e-cdc1-36932fd11128"
      },
      "execution_count": 1,
      "outputs": [
        {
          "output_type": "stream",
          "name": "stdout",
          "text": [
            "1.13.1+cu116\n"
          ]
        }
      ]
    },
    {
      "cell_type": "markdown",
      "source": [
        "## Introduction to tensors\n",
        "\n",
        "# Creating tensors"
      ],
      "metadata": {
        "id": "_xeRDqjZ9foH"
      }
    },
    {
      "cell_type": "markdown",
      "source": [
        "PyTorch tensors are created using torch.Tensor()"
      ],
      "metadata": {
        "id": "7OBYJ1hS-5Ix"
      }
    },
    {
      "cell_type": "code",
      "source": [
        "#scalar\n",
        "\n",
        "scalar = torch.tensor(7)\n",
        "scalar"
      ],
      "metadata": {
        "colab": {
          "base_uri": "https://localhost:8080/"
        },
        "id": "R50-raoR98ff",
        "outputId": "9eeb3fa0-a4e2-4f92-c65a-8342b5d35ebb"
      },
      "execution_count": 2,
      "outputs": [
        {
          "output_type": "execute_result",
          "data": {
            "text/plain": [
              "tensor(7)"
            ]
          },
          "metadata": {},
          "execution_count": 2
        }
      ]
    },
    {
      "cell_type": "code",
      "source": [
        "scalar.ndim"
      ],
      "metadata": {
        "colab": {
          "base_uri": "https://localhost:8080/"
        },
        "id": "nD2MhBue-ckJ",
        "outputId": "53aa7aab-fe37-4cce-97cb-30f9655e7486"
      },
      "execution_count": 3,
      "outputs": [
        {
          "output_type": "execute_result",
          "data": {
            "text/plain": [
              "0"
            ]
          },
          "metadata": {},
          "execution_count": 3
        }
      ]
    },
    {
      "cell_type": "code",
      "source": [
        "# get the python int \n",
        "scalar.item()"
      ],
      "metadata": {
        "colab": {
          "base_uri": "https://localhost:8080/"
        },
        "id": "dBQT62NE-_YE",
        "outputId": "410718bd-782b-4f66-ec7d-93242a8e9c0c"
      },
      "execution_count": 4,
      "outputs": [
        {
          "output_type": "execute_result",
          "data": {
            "text/plain": [
              "7"
            ]
          },
          "metadata": {},
          "execution_count": 4
        }
      ]
    },
    {
      "cell_type": "code",
      "source": [
        "# Vector\n",
        "\n",
        "vector = torch.tensor([7,7])"
      ],
      "metadata": {
        "id": "d7LzjAp0_HR5"
      },
      "execution_count": 5,
      "outputs": []
    },
    {
      "cell_type": "code",
      "source": [
        "vector"
      ],
      "metadata": {
        "colab": {
          "base_uri": "https://localhost:8080/"
        },
        "id": "CZaVMv0z_SVY",
        "outputId": "2daffd82-2c5e-4217-d6ad-1aac341a27de"
      },
      "execution_count": 6,
      "outputs": [
        {
          "output_type": "execute_result",
          "data": {
            "text/plain": [
              "tensor([7, 7])"
            ]
          },
          "metadata": {},
          "execution_count": 6
        }
      ]
    },
    {
      "cell_type": "code",
      "source": [
        "vector.ndim"
      ],
      "metadata": {
        "colab": {
          "base_uri": "https://localhost:8080/"
        },
        "id": "GB3eOssi_UUC",
        "outputId": "fce335ba-f953-474d-d3fb-6fba83c7b70c"
      },
      "execution_count": 7,
      "outputs": [
        {
          "output_type": "execute_result",
          "data": {
            "text/plain": [
              "1"
            ]
          },
          "metadata": {},
          "execution_count": 7
        }
      ]
    },
    {
      "cell_type": "code",
      "source": [
        "vector.shape"
      ],
      "metadata": {
        "colab": {
          "base_uri": "https://localhost:8080/"
        },
        "id": "uzg-auTP_W4T",
        "outputId": "1c60b554-7e49-4440-b436-77520ae297fc"
      },
      "execution_count": 8,
      "outputs": [
        {
          "output_type": "execute_result",
          "data": {
            "text/plain": [
              "torch.Size([2])"
            ]
          },
          "metadata": {},
          "execution_count": 8
        }
      ]
    },
    {
      "cell_type": "code",
      "source": [
        "# MATRIX\n",
        "\n",
        "MATRIX = torch.tensor([[7,8],\n",
        "                       [9,10]])\n",
        "\n",
        "print(MATRIX.ndim)\n"
      ],
      "metadata": {
        "colab": {
          "base_uri": "https://localhost:8080/"
        },
        "id": "bihWtNKX_g8D",
        "outputId": "332c0afa-f233-475a-939f-b569961a9b89"
      },
      "execution_count": 9,
      "outputs": [
        {
          "output_type": "stream",
          "name": "stdout",
          "text": [
            "2\n"
          ]
        }
      ]
    },
    {
      "cell_type": "code",
      "source": [
        "MATRIX"
      ],
      "metadata": {
        "colab": {
          "base_uri": "https://localhost:8080/"
        },
        "id": "QVNBh9SuAA2j",
        "outputId": "2045cba1-cdb9-4e43-d20c-0a4f6684d067"
      },
      "execution_count": 10,
      "outputs": [
        {
          "output_type": "execute_result",
          "data": {
            "text/plain": [
              "tensor([[ 7,  8],\n",
              "        [ 9, 10]])"
            ]
          },
          "metadata": {},
          "execution_count": 10
        }
      ]
    },
    {
      "cell_type": "code",
      "source": [
        "MATRIX[0]"
      ],
      "metadata": {
        "colab": {
          "base_uri": "https://localhost:8080/"
        },
        "id": "Ux5MwX0d_r56",
        "outputId": "cfd62e32-f3e1-4f11-b6d7-38165a9aca98"
      },
      "execution_count": 11,
      "outputs": [
        {
          "output_type": "execute_result",
          "data": {
            "text/plain": [
              "tensor([7, 8])"
            ]
          },
          "metadata": {},
          "execution_count": 11
        }
      ]
    },
    {
      "cell_type": "code",
      "source": [
        "MATRIX.shape"
      ],
      "metadata": {
        "colab": {
          "base_uri": "https://localhost:8080/"
        },
        "id": "BgbTjtJa_5mE",
        "outputId": "dd18c516-9865-4727-877f-596570f17d73"
      },
      "execution_count": 12,
      "outputs": [
        {
          "output_type": "execute_result",
          "data": {
            "text/plain": [
              "torch.Size([2, 2])"
            ]
          },
          "metadata": {},
          "execution_count": 12
        }
      ]
    },
    {
      "cell_type": "code",
      "source": [
        "MATRIX[0][1]"
      ],
      "metadata": {
        "colab": {
          "base_uri": "https://localhost:8080/"
        },
        "id": "BajZtfOO_8Gq",
        "outputId": "4bc76c0a-65d3-4a56-b094-f0a0d8bac7c7"
      },
      "execution_count": 13,
      "outputs": [
        {
          "output_type": "execute_result",
          "data": {
            "text/plain": [
              "tensor(8)"
            ]
          },
          "metadata": {},
          "execution_count": 13
        }
      ]
    },
    {
      "cell_type": "code",
      "source": [
        "# TENSOR\n",
        "\n",
        "TENSOR = torch.tensor([[[1,2,3],\n",
        "                        [3,6,9],\n",
        "                        [2,4,5]]])"
      ],
      "metadata": {
        "id": "mnUayWde__TE"
      },
      "execution_count": 14,
      "outputs": []
    },
    {
      "cell_type": "code",
      "source": [
        "TENSOR"
      ],
      "metadata": {
        "colab": {
          "base_uri": "https://localhost:8080/"
        },
        "id": "ReEZRbhSANBy",
        "outputId": "5c68fcc7-a910-4ba2-ac37-3a6747086d2f"
      },
      "execution_count": 15,
      "outputs": [
        {
          "output_type": "execute_result",
          "data": {
            "text/plain": [
              "tensor([[[1, 2, 3],\n",
              "         [3, 6, 9],\n",
              "         [2, 4, 5]]])"
            ]
          },
          "metadata": {},
          "execution_count": 15
        }
      ]
    },
    {
      "cell_type": "code",
      "source": [
        "TENSOR.ndim"
      ],
      "metadata": {
        "colab": {
          "base_uri": "https://localhost:8080/"
        },
        "id": "xiub_COZAOe5",
        "outputId": "9b1597b4-2290-4ceb-951b-79ce479509af"
      },
      "execution_count": 16,
      "outputs": [
        {
          "output_type": "execute_result",
          "data": {
            "text/plain": [
              "3"
            ]
          },
          "metadata": {},
          "execution_count": 16
        }
      ]
    },
    {
      "cell_type": "code",
      "source": [
        "TENSOR.shape"
      ],
      "metadata": {
        "colab": {
          "base_uri": "https://localhost:8080/"
        },
        "id": "awk28l6bAPkg",
        "outputId": "f94eb240-1cba-4c01-b1fc-0512e44067b1"
      },
      "execution_count": 17,
      "outputs": [
        {
          "output_type": "execute_result",
          "data": {
            "text/plain": [
              "torch.Size([1, 3, 3])"
            ]
          },
          "metadata": {},
          "execution_count": 17
        }
      ]
    },
    {
      "cell_type": "code",
      "source": [
        "TENSOR[0]"
      ],
      "metadata": {
        "colab": {
          "base_uri": "https://localhost:8080/"
        },
        "id": "OECVvTilARZn",
        "outputId": "8ad05080-4ae9-4005-a860-caf184ffdbd5"
      },
      "execution_count": 18,
      "outputs": [
        {
          "output_type": "execute_result",
          "data": {
            "text/plain": [
              "tensor([[1, 2, 3],\n",
              "        [3, 6, 9],\n",
              "        [2, 4, 5]])"
            ]
          },
          "metadata": {},
          "execution_count": 18
        }
      ]
    },
    {
      "cell_type": "markdown",
      "source": [
        " ### Random tensors\n",
        "\n",
        " Why random tensors?\n",
        "\n",
        " Random tensors are important because many NN learn is that they start with random numbers and then adjust nos to better represent the data"
      ],
      "metadata": {
        "id": "-XlEVoFEAlzN"
      }
    },
    {
      "cell_type": "code",
      "source": [
        "# Create a random tensor of size(3,4)\n",
        "\n",
        "random_tensor = torch.rand(3,4)\n"
      ],
      "metadata": {
        "id": "E7ILN7-iBmBA"
      },
      "execution_count": 19,
      "outputs": []
    },
    {
      "cell_type": "code",
      "source": [
        "random_tensor"
      ],
      "metadata": {
        "colab": {
          "base_uri": "https://localhost:8080/"
        },
        "id": "Ie2E0rv4CIq8",
        "outputId": "1ccf4c25-b5cd-4cc5-8957-39c8738548aa"
      },
      "execution_count": 20,
      "outputs": [
        {
          "output_type": "execute_result",
          "data": {
            "text/plain": [
              "tensor([[0.7557, 0.3958, 0.6287, 0.1129],\n",
              "        [0.0708, 0.4770, 0.4766, 0.0910],\n",
              "        [0.1322, 0.4179, 0.5920, 0.1650]])"
            ]
          },
          "metadata": {},
          "execution_count": 20
        }
      ]
    },
    {
      "cell_type": "code",
      "source": [
        "random_tensor.ndim"
      ],
      "metadata": {
        "colab": {
          "base_uri": "https://localhost:8080/"
        },
        "id": "DdbG66hoCKuj",
        "outputId": "ee98d7f0-4472-4efc-8862-20ebdb4af3a0"
      },
      "execution_count": 21,
      "outputs": [
        {
          "output_type": "execute_result",
          "data": {
            "text/plain": [
              "2"
            ]
          },
          "metadata": {},
          "execution_count": 21
        }
      ]
    },
    {
      "cell_type": "code",
      "source": [
        "# Create a random tensor with a similar shape to an image\n",
        "\n",
        "random_image_size_tensor = torch.rand(size=(224,224,3)) # height, weight, and colour channel and can be reversed if its color channel, height , width\n",
        "\n",
        "random_image_size_tensor.shape , random_image_size_tensor.ndim"
      ],
      "metadata": {
        "colab": {
          "base_uri": "https://localhost:8080/"
        },
        "id": "BTYW0IccCUIj",
        "outputId": "f3c2e84f-1f43-495b-c2b5-b83f4dcca033"
      },
      "execution_count": 22,
      "outputs": [
        {
          "output_type": "execute_result",
          "data": {
            "text/plain": [
              "(torch.Size([224, 224, 3]), 3)"
            ]
          },
          "metadata": {},
          "execution_count": 22
        }
      ]
    },
    {
      "cell_type": "markdown",
      "source": [
        "### Zeros and Ones"
      ],
      "metadata": {
        "id": "nOIvfJ33C5bW"
      }
    },
    {
      "cell_type": "code",
      "source": [
        "# Create a tensor of all zeros\n",
        "\n",
        "zero = torch.zeros(size=(3,4))\n",
        "\n",
        "zero"
      ],
      "metadata": {
        "colab": {
          "base_uri": "https://localhost:8080/"
        },
        "id": "4QHB208IDhNh",
        "outputId": "69f9af56-6ff3-4fc0-e1bd-db690c527d34"
      },
      "execution_count": 23,
      "outputs": [
        {
          "output_type": "execute_result",
          "data": {
            "text/plain": [
              "tensor([[0., 0., 0., 0.],\n",
              "        [0., 0., 0., 0.],\n",
              "        [0., 0., 0., 0.]])"
            ]
          },
          "metadata": {},
          "execution_count": 23
        }
      ]
    },
    {
      "cell_type": "code",
      "source": [
        "zero * random_tensor"
      ],
      "metadata": {
        "colab": {
          "base_uri": "https://localhost:8080/"
        },
        "id": "EDi0bXsWDoRc",
        "outputId": "0edd6a55-cc13-4533-bdcc-1c13c9178335"
      },
      "execution_count": 24,
      "outputs": [
        {
          "output_type": "execute_result",
          "data": {
            "text/plain": [
              "tensor([[0., 0., 0., 0.],\n",
              "        [0., 0., 0., 0.],\n",
              "        [0., 0., 0., 0.]])"
            ]
          },
          "metadata": {},
          "execution_count": 24
        }
      ]
    },
    {
      "cell_type": "code",
      "source": [
        "# Create a tensor of all ones\n",
        "\n",
        "ones = torch.ones(size=(3,4))\n",
        "ones\n"
      ],
      "metadata": {
        "colab": {
          "base_uri": "https://localhost:8080/"
        },
        "id": "qB-TS_U-DvzG",
        "outputId": "d5cb7afb-6ef3-423f-fc7c-bf6a7abb3df5"
      },
      "execution_count": 25,
      "outputs": [
        {
          "output_type": "execute_result",
          "data": {
            "text/plain": [
              "tensor([[1., 1., 1., 1.],\n",
              "        [1., 1., 1., 1.],\n",
              "        [1., 1., 1., 1.]])"
            ]
          },
          "metadata": {},
          "execution_count": 25
        }
      ]
    },
    {
      "cell_type": "code",
      "source": [
        "ones.dtype"
      ],
      "metadata": {
        "colab": {
          "base_uri": "https://localhost:8080/"
        },
        "id": "h93vR-DrD37n",
        "outputId": "4ff491ea-8c82-4e73-844d-0cb922a52262"
      },
      "execution_count": 26,
      "outputs": [
        {
          "output_type": "execute_result",
          "data": {
            "text/plain": [
              "torch.float32"
            ]
          },
          "metadata": {},
          "execution_count": 26
        }
      ]
    },
    {
      "cell_type": "markdown",
      "source": [
        "### Creating a range of tensors and tensors - like "
      ],
      "metadata": {
        "id": "SKb5or9aD5Ru"
      }
    },
    {
      "cell_type": "code",
      "source": [
        "# Use torch.range()\n",
        "\n",
        "torch.range(0,10)"
      ],
      "metadata": {
        "colab": {
          "base_uri": "https://localhost:8080/"
        },
        "id": "J_ini4ZhEMI5",
        "outputId": "7fdc3eec-53c4-48f0-f08f-27b717e9a861"
      },
      "execution_count": 27,
      "outputs": [
        {
          "output_type": "stream",
          "name": "stderr",
          "text": [
            "<ipython-input-27-8ff1b355b43d>:3: UserWarning: torch.range is deprecated and will be removed in a future release because its behavior is inconsistent with Python's range builtin. Instead, use torch.arange, which produces values in [start, end).\n",
            "  torch.range(0,10)\n"
          ]
        },
        {
          "output_type": "execute_result",
          "data": {
            "text/plain": [
              "tensor([ 0.,  1.,  2.,  3.,  4.,  5.,  6.,  7.,  8.,  9., 10.])"
            ]
          },
          "metadata": {},
          "execution_count": 27
        }
      ]
    },
    {
      "cell_type": "code",
      "source": [
        "# since torch range is deprectaed , we can use torch.arange\n",
        "\n",
        "one_to_ten = torch.arange(0,10)"
      ],
      "metadata": {
        "id": "tVeYzpR_ETcL"
      },
      "execution_count": 28,
      "outputs": []
    },
    {
      "cell_type": "code",
      "source": [
        "# add step\n",
        "\n",
        "torch.arange(start=0,end=1000,step=77)"
      ],
      "metadata": {
        "colab": {
          "base_uri": "https://localhost:8080/"
        },
        "id": "mdcF6kVFEcMS",
        "outputId": "6817ec85-e1f3-4144-c125-2546b45c2c6c"
      },
      "execution_count": 29,
      "outputs": [
        {
          "output_type": "execute_result",
          "data": {
            "text/plain": [
              "tensor([  0,  77, 154, 231, 308, 385, 462, 539, 616, 693, 770, 847, 924])"
            ]
          },
          "metadata": {},
          "execution_count": 29
        }
      ]
    },
    {
      "cell_type": "code",
      "source": [
        "# Creating tensors like i.e replicating the shape of another tensor\n",
        "\n",
        "ten_zeros  = torch.zeros_like(input = one_to_ten)"
      ],
      "metadata": {
        "id": "_SKoQ6ygEn0G"
      },
      "execution_count": 30,
      "outputs": []
    },
    {
      "cell_type": "code",
      "source": [
        "ten_zeros"
      ],
      "metadata": {
        "colab": {
          "base_uri": "https://localhost:8080/"
        },
        "id": "9di3J9JrE_RX",
        "outputId": "cc81e379-3b6d-4638-b331-b060b870f7a8"
      },
      "execution_count": 31,
      "outputs": [
        {
          "output_type": "execute_result",
          "data": {
            "text/plain": [
              "tensor([0, 0, 0, 0, 0, 0, 0, 0, 0, 0])"
            ]
          },
          "metadata": {},
          "execution_count": 31
        }
      ]
    },
    {
      "cell_type": "markdown",
      "source": [
        "## Tensor Data Types"
      ],
      "metadata": {
        "id": "Ws038moLFAkl"
      }
    },
    {
      "cell_type": "code",
      "source": [
        "# Float 32 tensor\n",
        "\n",
        "float_32_tensor = torch.tensor([3.0,6.0,9.0],dtype = None)"
      ],
      "metadata": {
        "id": "jJSRqY_6FYdB"
      },
      "execution_count": 32,
      "outputs": []
    },
    {
      "cell_type": "code",
      "source": [
        "float_32_tensor.dtype"
      ],
      "metadata": {
        "colab": {
          "base_uri": "https://localhost:8080/"
        },
        "id": "dV7DsKLRFjsS",
        "outputId": "3b8b747c-0fde-4b14-88b1-8520618baeef"
      },
      "execution_count": 33,
      "outputs": [
        {
          "output_type": "execute_result",
          "data": {
            "text/plain": [
              "torch.float32"
            ]
          },
          "metadata": {},
          "execution_count": 33
        }
      ]
    },
    {
      "cell_type": "code",
      "source": [
        "float_32_tensor = torch.tensor([3.0,6.0,9.0],\n",
        "                               dtype = None, # what datatype tensor is float32,float16,float64 etc\n",
        "                               device = None, # in case of gpu available we can change it to gpu, otherwise it can be cpu , so what device is tensor on\n",
        "                               requires_grad=False) # if pytorch should track gradients when doing calculations"
      ],
      "metadata": {
        "id": "YdvucjFLFlsf"
      },
      "execution_count": 34,
      "outputs": []
    },
    {
      "cell_type": "code",
      "source": [
        "# create float16 tensor\n",
        "\n",
        "float_16_tensor = torch.tensor([3.0,6.0,9.0],dtype=torch.float16)"
      ],
      "metadata": {
        "id": "3Qup_E5LF0Il"
      },
      "execution_count": 35,
      "outputs": []
    },
    {
      "cell_type": "code",
      "source": [
        "float_16_tensor.dtype"
      ],
      "metadata": {
        "colab": {
          "base_uri": "https://localhost:8080/"
        },
        "id": "zJgsr1FSHTgh",
        "outputId": "86f046a5-5649-4d34-ee3a-7ea78a186a04"
      },
      "execution_count": 36,
      "outputs": [
        {
          "output_type": "execute_result",
          "data": {
            "text/plain": [
              "torch.float16"
            ]
          },
          "metadata": {},
          "execution_count": 36
        }
      ]
    },
    {
      "cell_type": "code",
      "source": [
        "float_16_tensor * float_32_tensor"
      ],
      "metadata": {
        "colab": {
          "base_uri": "https://localhost:8080/"
        },
        "id": "UpQwY2pGHV00",
        "outputId": "889bbf86-bae6-467d-a121-276bd10d8ee4"
      },
      "execution_count": 37,
      "outputs": [
        {
          "output_type": "execute_result",
          "data": {
            "text/plain": [
              "tensor([ 9., 36., 81.])"
            ]
          },
          "metadata": {},
          "execution_count": 37
        }
      ]
    },
    {
      "cell_type": "markdown",
      "source": [
        " ## Getting information from tensors\n",
        " \n",
        " 1. Datatype = torch.dtype\n",
        "\n",
        " 2. Shape = torch.shape\n",
        "\n",
        " 3. Device = torch.device"
      ],
      "metadata": {
        "id": "pBOABHBsHqqU"
      }
    },
    {
      "cell_type": "code",
      "source": [
        "some_tensor = torch.rand(size=(3,4))\n",
        "print(\"Datatype is \", some_tensor.dtype)\n",
        "print(\"Shape is \", some_tensor.shape)\n",
        "print(\"Device is \", some_tensor.device)\n"
      ],
      "metadata": {
        "colab": {
          "base_uri": "https://localhost:8080/"
        },
        "id": "sqOLsQDjKZKj",
        "outputId": "445ad729-2ab3-4e08-d41b-f5c267c86cad"
      },
      "execution_count": 38,
      "outputs": [
        {
          "output_type": "stream",
          "name": "stdout",
          "text": [
            "Datatype is  torch.float32\n",
            "Shape is  torch.Size([3, 4])\n",
            "Device is  cpu\n"
          ]
        }
      ]
    },
    {
      "cell_type": "markdown",
      "source": [
        "### Manipulating Tensors (tensor operations)\n",
        "\n",
        "Tensor operations include:\n",
        "* Addition\n",
        "* Subtraction\n",
        "* Multiplication\n",
        "* Division\n",
        "* Matrix multiplication"
      ],
      "metadata": {
        "id": "WaGXwqO2Kyx9"
      }
    },
    {
      "cell_type": "code",
      "source": [
        "# Create a tensor and add 10 to it\n",
        "\n",
        "tensor = torch.tensor([1,2,3])\n",
        "\n",
        "tensor + 10"
      ],
      "metadata": {
        "colab": {
          "base_uri": "https://localhost:8080/"
        },
        "id": "OAQdlnVQLfl-",
        "outputId": "2583923c-87a8-4e04-a2a0-1213f0859f4f"
      },
      "execution_count": 39,
      "outputs": [
        {
          "output_type": "execute_result",
          "data": {
            "text/plain": [
              "tensor([11, 12, 13])"
            ]
          },
          "metadata": {},
          "execution_count": 39
        }
      ]
    },
    {
      "cell_type": "code",
      "source": [
        "tensor*10"
      ],
      "metadata": {
        "colab": {
          "base_uri": "https://localhost:8080/"
        },
        "id": "01gFX88HLr3Q",
        "outputId": "5c4a7957-4ab5-4f80-da39-47d42803b6c2"
      },
      "execution_count": 40,
      "outputs": [
        {
          "output_type": "execute_result",
          "data": {
            "text/plain": [
              "tensor([10, 20, 30])"
            ]
          },
          "metadata": {},
          "execution_count": 40
        }
      ]
    },
    {
      "cell_type": "code",
      "source": [
        "tensor- 10"
      ],
      "metadata": {
        "colab": {
          "base_uri": "https://localhost:8080/"
        },
        "id": "mH6qqAcrLySj",
        "outputId": "b337c405-d5fc-4d6e-8c8d-7350692f02ec"
      },
      "execution_count": 41,
      "outputs": [
        {
          "output_type": "execute_result",
          "data": {
            "text/plain": [
              "tensor([-9, -8, -7])"
            ]
          },
          "metadata": {},
          "execution_count": 41
        }
      ]
    },
    {
      "cell_type": "code",
      "source": [
        "# try out in-built functions\n",
        "\n",
        "torch.mul(tensor,10)"
      ],
      "metadata": {
        "colab": {
          "base_uri": "https://localhost:8080/"
        },
        "id": "jobSCaaeL_-h",
        "outputId": "25c12078-6a4c-494a-ded5-142529ab46ac"
      },
      "execution_count": 42,
      "outputs": [
        {
          "output_type": "execute_result",
          "data": {
            "text/plain": [
              "tensor([10, 20, 30])"
            ]
          },
          "metadata": {},
          "execution_count": 42
        }
      ]
    },
    {
      "cell_type": "markdown",
      "source": [
        "### Matrix Multiplication\n",
        "\n",
        "Two main ways of performing muliplication\n",
        "* Element wise\n",
        "* Matrix Multiplication - dot product can be done as matmul or @\n",
        "\n",
        "There are two main rules for performing matrix multiplication\n",
        "1. The **inner dimensions** need to match :\n",
        "* `(3,2)@(3,2)` won't work\n",
        "* `(2,3)@(3,2)` will work\n",
        "2. The resulting matrix has the shape of **outer dimensions**:\n",
        "* `(3,2)@(2,3)` will generate (3,3) matrix"
      ],
      "metadata": {
        "id": "9vX3txpfMHb-"
      }
    },
    {
      "cell_type": "code",
      "source": [
        "print(tensor,'*',tensor)\n",
        "tensor*tensor"
      ],
      "metadata": {
        "colab": {
          "base_uri": "https://localhost:8080/"
        },
        "id": "4A095aQIN07I",
        "outputId": "161e7ed8-37aa-43ed-8fb7-7f76537a3262"
      },
      "execution_count": 43,
      "outputs": [
        {
          "output_type": "stream",
          "name": "stdout",
          "text": [
            "tensor([1, 2, 3]) * tensor([1, 2, 3])\n"
          ]
        },
        {
          "output_type": "execute_result",
          "data": {
            "text/plain": [
              "tensor([1, 4, 9])"
            ]
          },
          "metadata": {},
          "execution_count": 43
        }
      ]
    },
    {
      "cell_type": "code",
      "source": [
        "torch.matmul(tensor,tensor)"
      ],
      "metadata": {
        "colab": {
          "base_uri": "https://localhost:8080/"
        },
        "id": "rkQM40QrOXWS",
        "outputId": "7f7b69ef-e179-409f-b621-25e3420ef629"
      },
      "execution_count": 44,
      "outputs": [
        {
          "output_type": "execute_result",
          "data": {
            "text/plain": [
              "tensor(14)"
            ]
          },
          "metadata": {},
          "execution_count": 44
        }
      ]
    },
    {
      "cell_type": "code",
      "source": [
        "torch.matmul(tensor,tensor)\n"
      ],
      "metadata": {
        "colab": {
          "base_uri": "https://localhost:8080/"
        },
        "id": "klH7EWGJOkek",
        "outputId": "6c131fca-2a96-4926-f362-9ee0a40556b3"
      },
      "execution_count": 45,
      "outputs": [
        {
          "output_type": "execute_result",
          "data": {
            "text/plain": [
              "tensor(14)"
            ]
          },
          "metadata": {},
          "execution_count": 45
        }
      ]
    },
    {
      "cell_type": "code",
      "source": [
        "# see dimensions of correct multiplication\n",
        "torch.matmul(torch.rand(size=(3,2)), torch.rand(size=(2,3))).shape"
      ],
      "metadata": {
        "colab": {
          "base_uri": "https://localhost:8080/"
        },
        "id": "AHZLDQZNP5pS",
        "outputId": "b12955ea-a4ab-4e61-e020-da7bf64ca050"
      },
      "execution_count": 46,
      "outputs": [
        {
          "output_type": "execute_result",
          "data": {
            "text/plain": [
              "torch.Size([3, 3])"
            ]
          },
          "metadata": {},
          "execution_count": 46
        }
      ]
    },
    {
      "cell_type": "markdown",
      "source": [
        " # Finding the min, max , sum etc (tensor aggregation)\n"
      ],
      "metadata": {
        "id": "nBwy6t9fQv48"
      }
    },
    {
      "cell_type": "code",
      "source": [
        "# create a tensor\n",
        "x = torch.arange(0,10)\n"
      ],
      "metadata": {
        "id": "27a4LFoJArn6"
      },
      "execution_count": 47,
      "outputs": []
    },
    {
      "cell_type": "code",
      "source": [
        "# minimum \n",
        "torch.min(x) , x.min()"
      ],
      "metadata": {
        "colab": {
          "base_uri": "https://localhost:8080/"
        },
        "id": "RSmq5-TvA8kA",
        "outputId": "3eedee2f-e600-41c0-84cc-a5e6e85abf49"
      },
      "execution_count": 48,
      "outputs": [
        {
          "output_type": "execute_result",
          "data": {
            "text/plain": [
              "(tensor(0), tensor(0))"
            ]
          },
          "metadata": {},
          "execution_count": 48
        }
      ]
    },
    {
      "cell_type": "code",
      "source": [
        "# max\n",
        "torch.max(x), x.max()"
      ],
      "metadata": {
        "colab": {
          "base_uri": "https://localhost:8080/"
        },
        "id": "xP9OcxcQBHTz",
        "outputId": "cc6f527c-76cd-4c69-dd8f-b916024e4a43"
      },
      "execution_count": 49,
      "outputs": [
        {
          "output_type": "execute_result",
          "data": {
            "text/plain": [
              "(tensor(9), tensor(9))"
            ]
          },
          "metadata": {},
          "execution_count": 49
        }
      ]
    },
    {
      "cell_type": "code",
      "source": [
        "# find the mean\n",
        "# torch.mean requires a tensor of float32 datatype to work\n",
        "torch.mean(x.type(torch.float32)) "
      ],
      "metadata": {
        "colab": {
          "base_uri": "https://localhost:8080/"
        },
        "id": "q3ouMF1LBKxH",
        "outputId": "f4ead547-63f4-4916-bd07-c1f54a925eff"
      },
      "execution_count": 50,
      "outputs": [
        {
          "output_type": "execute_result",
          "data": {
            "text/plain": [
              "tensor(4.5000)"
            ]
          },
          "metadata": {},
          "execution_count": 50
        }
      ]
    },
    {
      "cell_type": "code",
      "source": [
        "#find the sum\n",
        "torch.sum(x), x.sum()"
      ],
      "metadata": {
        "colab": {
          "base_uri": "https://localhost:8080/"
        },
        "id": "OTtCGFBEBOH7",
        "outputId": "7d209400-7f8c-4f8d-eb77-dbf34df8442e"
      },
      "execution_count": 51,
      "outputs": [
        {
          "output_type": "execute_result",
          "data": {
            "text/plain": [
              "(tensor(45), tensor(45))"
            ]
          },
          "metadata": {},
          "execution_count": 51
        }
      ]
    },
    {
      "cell_type": "code",
      "source": [
        "# find the positional  max\n",
        "# return the position in tensor where the maximum value occurs\n",
        "torch.argmax(x), x.argmax()"
      ],
      "metadata": {
        "colab": {
          "base_uri": "https://localhost:8080/"
        },
        "id": "9nkpYZHfDEpP",
        "outputId": "524d0acb-ec45-42f6-f6b8-101a1b540212"
      },
      "execution_count": 52,
      "outputs": [
        {
          "output_type": "execute_result",
          "data": {
            "text/plain": [
              "(tensor(9), tensor(9))"
            ]
          },
          "metadata": {},
          "execution_count": 52
        }
      ]
    },
    {
      "cell_type": "code",
      "source": [
        "# find the positional min \n",
        "# return the position in tensor where \n",
        "torch.argmin(x), x.argmin()"
      ],
      "metadata": {
        "colab": {
          "base_uri": "https://localhost:8080/"
        },
        "id": "_A-DiJ1hDQ7Q",
        "outputId": "14e4069e-3771-4047-9c42-3a489d25e70f"
      },
      "execution_count": 53,
      "outputs": [
        {
          "output_type": "execute_result",
          "data": {
            "text/plain": [
              "(tensor(0), tensor(0))"
            ]
          },
          "metadata": {},
          "execution_count": 53
        }
      ]
    },
    {
      "cell_type": "code",
      "source": [
        "x[9]"
      ],
      "metadata": {
        "colab": {
          "base_uri": "https://localhost:8080/"
        },
        "id": "XIdV2TJzDX_H",
        "outputId": "32566134-cd7e-4e6d-9408-fe03264c9a52"
      },
      "execution_count": 54,
      "outputs": [
        {
          "output_type": "execute_result",
          "data": {
            "text/plain": [
              "tensor(9)"
            ]
          },
          "metadata": {},
          "execution_count": 54
        }
      ]
    },
    {
      "cell_type": "markdown",
      "source": [
        "## Reshaping , stacking , squeezing and unsqueezing tensors\n",
        "\n",
        "* Reshaping - reshapes an input tensor to a defined Shape\n",
        "* View - Return a view of an input tensor of certain shape but keep the same memory as the original tensor\n",
        "* Stacking - combine multiple tensors in a specific direction\n",
        "* Squeeze - remove all `1` dimensiions from a tensor\n",
        "* UnSqueeze - add a `1` dimension to a target tensor\n",
        "* Permute - Return a view of the input with dimensioons permuted ( swapped ) in a certain way"
      ],
      "metadata": {
        "id": "3qVlrRETECjj"
      }
    },
    {
      "cell_type": "code",
      "source": [
        "# Create a tensor\n",
        "import torch\n",
        "\n",
        "x = torch.arange(1,10)\n",
        "x, x.shape"
      ],
      "metadata": {
        "colab": {
          "base_uri": "https://localhost:8080/"
        },
        "id": "ljtK7xU1H65Y",
        "outputId": "8b7f9e56-4ecb-4e09-ee90-00feb4ee412f"
      },
      "execution_count": 55,
      "outputs": [
        {
          "output_type": "execute_result",
          "data": {
            "text/plain": [
              "(tensor([1, 2, 3, 4, 5, 6, 7, 8, 9]), torch.Size([9]))"
            ]
          },
          "metadata": {},
          "execution_count": 55
        }
      ]
    },
    {
      "cell_type": "code",
      "source": [
        "# Add an extra dimension\n",
        "# reshape needs to be compatible with the original shape\n",
        "x_reshaped = x.reshape(1,9)\n",
        "x_reshaped, x_reshaped.shape"
      ],
      "metadata": {
        "colab": {
          "base_uri": "https://localhost:8080/"
        },
        "id": "nlC9KlktIIT-",
        "outputId": "7403f9cb-ed35-43b1-a550-6dc98bbc4d48"
      },
      "execution_count": 56,
      "outputs": [
        {
          "output_type": "execute_result",
          "data": {
            "text/plain": [
              "(tensor([[1, 2, 3, 4, 5, 6, 7, 8, 9]]), torch.Size([1, 9]))"
            ]
          },
          "metadata": {},
          "execution_count": 56
        }
      ]
    },
    {
      "cell_type": "code",
      "source": [
        "# Change the view\n",
        "z = x.view(1,9)\n",
        "z, z.shape\n"
      ],
      "metadata": {
        "colab": {
          "base_uri": "https://localhost:8080/"
        },
        "id": "cA4Bs3MrIPyF",
        "outputId": "dea5982d-3d72-4430-c71c-048748bec060"
      },
      "execution_count": 57,
      "outputs": [
        {
          "output_type": "execute_result",
          "data": {
            "text/plain": [
              "(tensor([[1, 2, 3, 4, 5, 6, 7, 8, 9]]), torch.Size([1, 9]))"
            ]
          },
          "metadata": {},
          "execution_count": 57
        }
      ]
    },
    {
      "cell_type": "code",
      "source": [
        "# Changing z changes x ( because a view of tensor shares the same memory of the original)\n",
        "z[:,0]=5\n",
        "\n",
        "z,x"
      ],
      "metadata": {
        "colab": {
          "base_uri": "https://localhost:8080/"
        },
        "id": "J6SIqvmtI9gf",
        "outputId": "07f2e7ae-f9e2-4d9c-df77-63d4dc616202"
      },
      "execution_count": 58,
      "outputs": [
        {
          "output_type": "execute_result",
          "data": {
            "text/plain": [
              "(tensor([[5, 2, 3, 4, 5, 6, 7, 8, 9]]), tensor([5, 2, 3, 4, 5, 6, 7, 8, 9]))"
            ]
          },
          "metadata": {},
          "execution_count": 58
        }
      ]
    },
    {
      "cell_type": "code",
      "source": [
        "# stack tensors on top of each other\n",
        "x_stacked = torch.stack([x,x,x,x],dim=1)\n",
        "x_stacked"
      ],
      "metadata": {
        "colab": {
          "base_uri": "https://localhost:8080/"
        },
        "id": "icXwI0NKJIpj",
        "outputId": "8f1dbcb1-b746-492e-a469-f6bbcb8507d7"
      },
      "execution_count": 59,
      "outputs": [
        {
          "output_type": "execute_result",
          "data": {
            "text/plain": [
              "tensor([[5, 5, 5, 5],\n",
              "        [2, 2, 2, 2],\n",
              "        [3, 3, 3, 3],\n",
              "        [4, 4, 4, 4],\n",
              "        [5, 5, 5, 5],\n",
              "        [6, 6, 6, 6],\n",
              "        [7, 7, 7, 7],\n",
              "        [8, 8, 8, 8],\n",
              "        [9, 9, 9, 9]])"
            ]
          },
          "metadata": {},
          "execution_count": 59
        }
      ]
    },
    {
      "cell_type": "code",
      "source": [
        "# torch.squeeze() - removes all dingle dimensions from the tensor\n",
        "x = torch.zeros(2, 1, 2, 1, 2)\n",
        "x.size()\n",
        "y = torch.squeeze(x)\n",
        "y.size()\n",
        "y = torch.squeeze(x, 0)\n",
        "y.size()\n",
        "y = torch.squeeze(x, 1)\n",
        "y.size()"
      ],
      "metadata": {
        "colab": {
          "base_uri": "https://localhost:8080/"
        },
        "id": "dT_Wdzf5JY-R",
        "outputId": "f3de64d5-9487-4096-9bd3-3a6e4b6b3a03"
      },
      "execution_count": 60,
      "outputs": [
        {
          "output_type": "execute_result",
          "data": {
            "text/plain": [
              "torch.Size([2, 2, 1, 2])"
            ]
          },
          "metadata": {},
          "execution_count": 60
        }
      ]
    },
    {
      "cell_type": "code",
      "source": [
        "# torch.permute rearranges the tensor dimensions\n",
        "\n",
        "x = torch.rand(size=(2,3,5))\n",
        "p_x = torch.permute(x,(2,0,1))\n",
        "x.shape , p_x.shape"
      ],
      "metadata": {
        "colab": {
          "base_uri": "https://localhost:8080/"
        },
        "id": "5CUqMmRoJ_hD",
        "outputId": "aacf3d8b-e877-440b-b2e2-ad4d4edcb9ea"
      },
      "execution_count": 61,
      "outputs": [
        {
          "output_type": "execute_result",
          "data": {
            "text/plain": [
              "(torch.Size([2, 3, 5]), torch.Size([5, 2, 3]))"
            ]
          },
          "metadata": {},
          "execution_count": 61
        }
      ]
    },
    {
      "cell_type": "code",
      "source": [
        "x_original = torch.rand(size=(224,224,3))\n",
        "x_permuted = x_original.permute(2,0,1)"
      ],
      "metadata": {
        "id": "gcJZ2qpLLMc1"
      },
      "execution_count": 62,
      "outputs": []
    },
    {
      "cell_type": "markdown",
      "source": [
        "## Indexing(selecting data from tensors)\n",
        "Indexing with Pytorch is similar to indexing with Numpy"
      ],
      "metadata": {
        "id": "tH6pzqRgLffA"
      }
    },
    {
      "cell_type": "code",
      "source": [
        "# Create a tensor\n",
        "import torch\n",
        "x = torch.arange(1,10).reshape(1,3,3)\n",
        "x, x.shape"
      ],
      "metadata": {
        "colab": {
          "base_uri": "https://localhost:8080/"
        },
        "id": "L7hCUudEMNAf",
        "outputId": "5f480781-7756-48ce-d9a8-35ee9994704d"
      },
      "execution_count": 63,
      "outputs": [
        {
          "output_type": "execute_result",
          "data": {
            "text/plain": [
              "(tensor([[[1, 2, 3],\n",
              "          [4, 5, 6],\n",
              "          [7, 8, 9]]]), torch.Size([1, 3, 3]))"
            ]
          },
          "metadata": {},
          "execution_count": 63
        }
      ]
    },
    {
      "cell_type": "code",
      "source": [
        "# Lets index on our new tensor\n",
        "x[0]"
      ],
      "metadata": {
        "colab": {
          "base_uri": "https://localhost:8080/"
        },
        "id": "nyGs3s4oMV7r",
        "outputId": "f1bb9e92-acab-4779-99cc-cd46659639fc"
      },
      "execution_count": 64,
      "outputs": [
        {
          "output_type": "execute_result",
          "data": {
            "text/plain": [
              "tensor([[1, 2, 3],\n",
              "        [4, 5, 6],\n",
              "        [7, 8, 9]])"
            ]
          },
          "metadata": {},
          "execution_count": 64
        }
      ]
    },
    {
      "cell_type": "code",
      "source": [
        "# lets index on middle bracket\n",
        "x[0][0]"
      ],
      "metadata": {
        "colab": {
          "base_uri": "https://localhost:8080/"
        },
        "id": "mLNUMR-WMZ8C",
        "outputId": "d054f7a1-39b7-4f9c-c296-dfb7380d28b5"
      },
      "execution_count": 65,
      "outputs": [
        {
          "output_type": "execute_result",
          "data": {
            "text/plain": [
              "tensor([1, 2, 3])"
            ]
          },
          "metadata": {},
          "execution_count": 65
        }
      ]
    },
    {
      "cell_type": "code",
      "source": [
        "# Lets index on last bracket\n",
        "x[0][0][0]"
      ],
      "metadata": {
        "colab": {
          "base_uri": "https://localhost:8080/"
        },
        "id": "gWlOrWXDMkYB",
        "outputId": "7e7bbef1-d3ce-4f06-96c1-60e64f5b7c30"
      },
      "execution_count": 66,
      "outputs": [
        {
          "output_type": "execute_result",
          "data": {
            "text/plain": [
              "tensor(1)"
            ]
          },
          "metadata": {},
          "execution_count": 66
        }
      ]
    },
    {
      "cell_type": "code",
      "source": [
        "# : can be used to select all of a target dimension\n",
        "\n",
        "x[:,0]"
      ],
      "metadata": {
        "colab": {
          "base_uri": "https://localhost:8080/"
        },
        "id": "D_GSIuHVMo4T",
        "outputId": "0fd6b1cd-885f-4f25-c5e7-4fc551eacbfe"
      },
      "execution_count": 67,
      "outputs": [
        {
          "output_type": "execute_result",
          "data": {
            "text/plain": [
              "tensor([[1, 2, 3]])"
            ]
          },
          "metadata": {},
          "execution_count": 67
        }
      ]
    },
    {
      "cell_type": "code",
      "source": [
        "# get all values of 0th and 1st dimensions but only index 1 of 2nd dimension\n",
        "x[:,:,1]"
      ],
      "metadata": {
        "colab": {
          "base_uri": "https://localhost:8080/"
        },
        "id": "lZJ8lEQAM_lL",
        "outputId": "ad0bce41-b126-41ac-d82d-8f1a4c4d083f"
      },
      "execution_count": 68,
      "outputs": [
        {
          "output_type": "execute_result",
          "data": {
            "text/plain": [
              "tensor([[2, 5, 8]])"
            ]
          },
          "metadata": {},
          "execution_count": 68
        }
      ]
    },
    {
      "cell_type": "code",
      "source": [
        "# get all values of 0 dimension but only 1 index value of 1st and 2nd dimension\n",
        "\n",
        "x[:,1,1]"
      ],
      "metadata": {
        "colab": {
          "base_uri": "https://localhost:8080/"
        },
        "id": "ujohy_lMNUVY",
        "outputId": "5799c97a-17a4-4c6c-fc19-4aed3440fe39"
      },
      "execution_count": 69,
      "outputs": [
        {
          "output_type": "execute_result",
          "data": {
            "text/plain": [
              "tensor([5])"
            ]
          },
          "metadata": {},
          "execution_count": 69
        }
      ]
    },
    {
      "cell_type": "markdown",
      "source": [
        "## PyTorch tensors and Numpy\n",
        "\n",
        "NumPy is a popular scientific Python numerical computing library.\n",
        "\n",
        "And Because of this, PyTorch has funcitonality to interact with it\n",
        "* NumPy to PyTorch\n",
        "* PyTorch to NumPy"
      ],
      "metadata": {
        "id": "o-1XTAhzNloZ"
      }
    },
    {
      "cell_type": "code",
      "source": [
        "# NumPy array to tensor\n",
        "\n",
        "import torch\n",
        "import numpy as np\n",
        "\n",
        "array = np.arange(1.0,8.0)\n",
        "\n",
        "tensor = torch.from_numpy(array)\n",
        "array, tensor"
      ],
      "metadata": {
        "colab": {
          "base_uri": "https://localhost:8080/"
        },
        "id": "Y2Sg-6QHOgS1",
        "outputId": "6dd25545-f5f6-48f7-8542-3b9094a5304b"
      },
      "execution_count": 70,
      "outputs": [
        {
          "output_type": "execute_result",
          "data": {
            "text/plain": [
              "(array([1., 2., 3., 4., 5., 6., 7.]),\n",
              " tensor([1., 2., 3., 4., 5., 6., 7.], dtype=torch.float64))"
            ]
          },
          "metadata": {},
          "execution_count": 70
        }
      ]
    },
    {
      "cell_type": "code",
      "source": [
        "tensor.dtype  # Warning , numpy has float64 dtype which gets reflected in PyTorch"
      ],
      "metadata": {
        "colab": {
          "base_uri": "https://localhost:8080/"
        },
        "id": "8kFuDYg4OuXM",
        "outputId": "9be4e612-5f2c-4cb3-8013-0a62e1a02259"
      },
      "execution_count": 71,
      "outputs": [
        {
          "output_type": "execute_result",
          "data": {
            "text/plain": [
              "torch.float64"
            ]
          },
          "metadata": {},
          "execution_count": 71
        }
      ]
    },
    {
      "cell_type": "code",
      "source": [
        "# change the value of array, what will this do to tensor?\n",
        "array = array + 1\n",
        "array,tensor"
      ],
      "metadata": {
        "colab": {
          "base_uri": "https://localhost:8080/"
        },
        "id": "lfcNO9CwOz5M",
        "outputId": "cea24f56-294e-41d3-fb2d-34acd448b70f"
      },
      "execution_count": 72,
      "outputs": [
        {
          "output_type": "execute_result",
          "data": {
            "text/plain": [
              "(array([2., 3., 4., 5., 6., 7., 8.]),\n",
              " tensor([1., 2., 3., 4., 5., 6., 7.], dtype=torch.float64))"
            ]
          },
          "metadata": {},
          "execution_count": 72
        }
      ]
    },
    {
      "cell_type": "code",
      "source": [
        "array += 1\n",
        "array,tensor"
      ],
      "metadata": {
        "colab": {
          "base_uri": "https://localhost:8080/"
        },
        "id": "IkZMnTrVPFYr",
        "outputId": "44b78925-3572-41ee-87e2-1f1ee6b8bd12"
      },
      "execution_count": 73,
      "outputs": [
        {
          "output_type": "execute_result",
          "data": {
            "text/plain": [
              "(array([3., 4., 5., 6., 7., 8., 9.]),\n",
              " tensor([1., 2., 3., 4., 5., 6., 7.], dtype=torch.float64))"
            ]
          },
          "metadata": {},
          "execution_count": 73
        }
      ]
    },
    {
      "cell_type": "code",
      "source": [
        "# Tensor to NumPy array\n",
        "tensor = torch.ones(7)\n",
        "numpy_tensor = tensor.numpy()\n",
        "tensor,numpy_tensor"
      ],
      "metadata": {
        "colab": {
          "base_uri": "https://localhost:8080/"
        },
        "id": "Ynf3J9PwPQ16",
        "outputId": "f3b96da0-9b2b-4c82-bf6e-fc7fbda7bb6a"
      },
      "execution_count": 74,
      "outputs": [
        {
          "output_type": "execute_result",
          "data": {
            "text/plain": [
              "(tensor([1., 1., 1., 1., 1., 1., 1.]),\n",
              " array([1., 1., 1., 1., 1., 1., 1.], dtype=float32))"
            ]
          },
          "metadata": {},
          "execution_count": 74
        }
      ]
    },
    {
      "cell_type": "markdown",
      "source": [
        "## Reproducibility (trying to take random out of random)\n",
        "\n",
        "In short how a NN learns:\n",
        "`start with random numbers -> tensor operations -> update random numbers`\n",
        "\n",
        "To reduce the randomness, comes the concept of **random seed**\n",
        "\n",
        "Essentially what the random seed does is 'flavour' the randomness\n"
      ],
      "metadata": {
        "id": "36V8om2bPkRY"
      }
    },
    {
      "cell_type": "code",
      "source": [
        "import torch\n",
        "# create 2 random tensors\n",
        "\n",
        "random_tensor_A = torch.rand(3,4)\n",
        "random_tensor_B = torch.rand(3,4)\n",
        "print(random_tensor_A)\n",
        "print(random_tensor_B)\n",
        "print(random_tensor_A==random_tensor_B)"
      ],
      "metadata": {
        "colab": {
          "base_uri": "https://localhost:8080/"
        },
        "id": "_AwQh_xIQZdQ",
        "outputId": "1d6bd897-59d9-4b90-be93-2675f2264123"
      },
      "execution_count": 75,
      "outputs": [
        {
          "output_type": "stream",
          "name": "stdout",
          "text": [
            "tensor([[0.9883, 0.7779, 0.1357, 0.2129],\n",
            "        [0.9428, 0.7621, 0.2405, 0.0010],\n",
            "        [0.0406, 0.9424, 0.0543, 0.2811]])\n",
            "tensor([[0.5947, 0.1025, 0.0548, 0.3006],\n",
            "        [0.7829, 0.7919, 0.2473, 0.5574],\n",
            "        [0.0734, 0.2088, 0.2868, 0.9583]])\n",
            "tensor([[False, False, False, False],\n",
            "        [False, False, False, False],\n",
            "        [False, False, False, False]])\n"
          ]
        }
      ]
    },
    {
      "cell_type": "code",
      "source": [
        "# let's make some random but reproducible tensors\n",
        "import torch\n",
        "\n",
        "# set the random seed\n",
        "RANDOM_SEED = 42\n",
        "\n",
        "torch.manual_seed(RANDOM_SEED)\n",
        "\n",
        "random_torch_C = torch.rand(3,4)\n",
        "torch.manual_seed(RANDOM_SEED) \n",
        "random_torch_D = torch.rand(3,4)\n",
        "print(random_torch_C == random_torch_C)"
      ],
      "metadata": {
        "colab": {
          "base_uri": "https://localhost:8080/"
        },
        "id": "usEJZ1zGQp1u",
        "outputId": "971667b0-8e08-453c-b89c-c69e4ee24c71"
      },
      "execution_count": 76,
      "outputs": [
        {
          "output_type": "stream",
          "name": "stdout",
          "text": [
            "tensor([[True, True, True, True],\n",
            "        [True, True, True, True],\n",
            "        [True, True, True, True]])\n"
          ]
        }
      ]
    },
    {
      "cell_type": "markdown",
      "source": [
        "## Running tensors and PyTorch objects on the GPUs ( and making faster computations)\n"
      ],
      "metadata": {
        "id": "S-sxmiO9Rzz5"
      }
    },
    {
      "cell_type": "markdown",
      "source": [
        "### 1. Getting a GPU\n",
        "1. Easiest - use Google colab for a free GPU\n",
        "2. Use your own GPU - takes a little bit of setup and requires investment\n",
        "3. Use cloud computing- GCP, AWS , Azure"
      ],
      "metadata": {
        "id": "hdkvYpzYR8Dt"
      }
    },
    {
      "cell_type": "markdown",
      "source": [
        "### 2. Check for GPU access"
      ],
      "metadata": {
        "id": "_pPo8EA8Sga2"
      }
    },
    {
      "cell_type": "code",
      "source": [
        "# check for GPU access with PyTorch\n",
        "\n",
        "import torch\n",
        "\n",
        "torch.cuda.is_available()"
      ],
      "metadata": {
        "colab": {
          "base_uri": "https://localhost:8080/"
        },
        "id": "gxwSjXsdTP-E",
        "outputId": "4ebd6c2d-0700-466b-88f8-afe0f60cbe92"
      },
      "execution_count": 77,
      "outputs": [
        {
          "output_type": "execute_result",
          "data": {
            "text/plain": [
              "False"
            ]
          },
          "metadata": {},
          "execution_count": 77
        }
      ]
    },
    {
      "cell_type": "code",
      "source": [
        "# setup device agnostic code\n",
        "\n",
        "device ='cuda' if torch.cuda.is_available() else 'cpu'\n",
        "device"
      ],
      "metadata": {
        "colab": {
          "base_uri": "https://localhost:8080/",
          "height": 35
        },
        "id": "Jv2DINPrTYEx",
        "outputId": "d275feae-8f89-45e5-b28b-bd9ab1d08cf2"
      },
      "execution_count": 78,
      "outputs": [
        {
          "output_type": "execute_result",
          "data": {
            "text/plain": [
              "'cpu'"
            ],
            "application/vnd.google.colaboratory.intrinsic+json": {
              "type": "string"
            }
          },
          "metadata": {},
          "execution_count": 78
        }
      ]
    },
    {
      "cell_type": "code",
      "source": [
        "torch.cuda.device_count()"
      ],
      "metadata": {
        "colab": {
          "base_uri": "https://localhost:8080/"
        },
        "id": "gyW7Rw2oTpFt",
        "outputId": "56b3c248-36a6-4657-c005-c729ac8ba242"
      },
      "execution_count": 79,
      "outputs": [
        {
          "output_type": "stream",
          "name": "stderr",
          "text": [
            "/usr/local/lib/python3.8/dist-packages/torch/cuda/__init__.py:497: UserWarning: Can't initialize NVML\n",
            "  warnings.warn(\"Can't initialize NVML\")\n"
          ]
        },
        {
          "output_type": "execute_result",
          "data": {
            "text/plain": [
              "0"
            ]
          },
          "metadata": {},
          "execution_count": 79
        }
      ]
    },
    {
      "cell_type": "markdown",
      "source": [
        "### 3. Putting tensors (and models) on the GPU\n",
        "\n",
        "The reason is to  achieve faster computations"
      ],
      "metadata": {
        "id": "eRBZPVJnTzuz"
      }
    },
    {
      "cell_type": "code",
      "source": [
        "# creat a tensor (default is on CPU)\n",
        "\n",
        "tensor = torch.tensor([1,2,3])\n",
        "# tensor not on GPU\n",
        "\n",
        "print(tensor,tensor.device)"
      ],
      "metadata": {
        "colab": {
          "base_uri": "https://localhost:8080/"
        },
        "id": "tukPa64LUOTB",
        "outputId": "273709f8-49af-47f5-c75f-c208a474dd86"
      },
      "execution_count": 80,
      "outputs": [
        {
          "output_type": "stream",
          "name": "stdout",
          "text": [
            "tensor([1, 2, 3]) cpu\n"
          ]
        }
      ]
    },
    {
      "cell_type": "code",
      "source": [
        "# move tensor to GPU(if available)\n",
        "tensor_on_gpu = tensor.to(device)\n",
        "tensor_on_gpu"
      ],
      "metadata": {
        "colab": {
          "base_uri": "https://localhost:8080/"
        },
        "id": "GWF5JI5EUffN",
        "outputId": "327690ca-7928-4724-c1cf-0e6293500283"
      },
      "execution_count": 81,
      "outputs": [
        {
          "output_type": "execute_result",
          "data": {
            "text/plain": [
              "tensor([1, 2, 3])"
            ]
          },
          "metadata": {},
          "execution_count": 81
        }
      ]
    },
    {
      "cell_type": "markdown",
      "source": [
        "### 4. Moving tensors back to CPU"
      ],
      "metadata": {
        "id": "7_p17mQqUqVl"
      }
    },
    {
      "cell_type": "code",
      "source": [
        "# If tensor is on GPU , can't tranform it to NumPy\n",
        "\n",
        "#need to call it as \n",
        "\n",
        "tensor_back_on_cpu = tensor_on_gpu.cpu().numpy()"
      ],
      "metadata": {
        "id": "pJSkz7zcU1RV"
      },
      "execution_count": 82,
      "outputs": []
    },
    {
      "cell_type": "code",
      "source": [],
      "metadata": {
        "id": "2-coXD_mVG2l"
      },
      "execution_count": null,
      "outputs": []
    }
  ]
}